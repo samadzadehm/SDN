{
  "nbformat": 4,
  "nbformat_minor": 0,
  "metadata": {
    "colab": {
      "provenance": []
    },
    "kernelspec": {
      "name": "python3",
      "display_name": "Python 3"
    },
    "language_info": {
      "name": "python"
    },
    "accelerator": "GPU",
    "gpuClass": "standard"
  },
  "cells": [
    {
      "cell_type": "code",
      "execution_count": null,
      "metadata": {
        "id": "sQXCuunCqkFK"
      },
      "outputs": [],
      "source": [
        "import pandas as pd"
      ]
    },
    {
      "cell_type": "code",
      "source": [
        "data1 = pd.read_csv(\"/content/drive/MyDrive/Normal_data.csv\")\n",
        "data2 = pd.read_csv(\"/content/drive/MyDrive/metasploitable-2.csv\")\n",
        "data3 = pd.read_csv(\"/content/drive/MyDrive/OVS.csv\")"
      ],
      "metadata": {
        "id": "qP0rnvYxolRO"
      },
      "execution_count": null,
      "outputs": []
    },
    {
      "cell_type": "code",
      "source": [
        "data = pd.concat([data1,data2],ignore_index = True)"
      ],
      "metadata": {
        "id": "kMgLTh6Boo6M"
      },
      "execution_count": null,
      "outputs": []
    },
    {
      "cell_type": "code",
      "source": [
        "data = pd.concat([data,data3], ignore_index= True)\n",
        "data.shape"
      ],
      "metadata": {
        "colab": {
          "base_uri": "https://localhost:8080/"
        },
        "id": "YBWaJlEhor5T",
        "outputId": "19eb662e-d9ec-42df-c807-9fbb5dc17f4c"
      },
      "execution_count": null,
      "outputs": [
        {
          "output_type": "execute_result",
          "data": {
            "text/plain": [
              "(343889, 84)"
            ]
          },
          "metadata": {},
          "execution_count": 4
        }
      ]
    },
    {
      "cell_type": "code",
      "source": [
        "print(\"Distribution of data :\")\n",
        "print('---------------------------------')\n",
        "print(data['Label'].value_counts())\n",
        "print(data.shape)"
      ],
      "metadata": {
        "colab": {
          "base_uri": "https://localhost:8080/"
        },
        "id": "Z8v59VkKot_A",
        "outputId": "8a6a9a08-6194-466a-f3f8-38564c8a60da"
      },
      "execution_count": null,
      "outputs": [
        {
          "output_type": "stream",
          "name": "stdout",
          "text": [
            "Distribution of data :\n",
            "---------------------------------\n",
            "Probe         98129\n",
            "DDoS          73529\n",
            "Normal        68424\n",
            "DoS           53616\n",
            "DDoS          48413\n",
            "BFA            1405\n",
            "Web-Attack      192\n",
            "BOTNET          164\n",
            "U2R              17\n",
            "Name: Label, dtype: int64\n",
            "(343889, 84)\n"
          ]
        }
      ]
    },
    {
      "cell_type": "code",
      "source": [
        "del data1\n",
        "del data2\n",
        "del data3"
      ],
      "metadata": {
        "id": "7GBh8GlBoxIg"
      },
      "execution_count": null,
      "outputs": []
    },
    {
      "cell_type": "code",
      "source": [
        "for col in data.columns:\n",
        "  if data[col].dtype == 'object':\n",
        "    unique_value = data[col].unique()\n",
        "    print(\"featuer {} has {} unique values\".format(col, len(unique_value)))"
      ],
      "metadata": {
        "colab": {
          "base_uri": "https://localhost:8080/"
        },
        "id": "NQIg5v7no1CH",
        "outputId": "a30ee5cb-1df5-4c56-9eb9-c61a01b51aa5"
      },
      "execution_count": null,
      "outputs": [
        {
          "output_type": "stream",
          "name": "stdout",
          "text": [
            "featuer Flow ID has 234971 unique values\n",
            "featuer Src IP has 122868 unique values\n",
            "featuer Dst IP has 1081 unique values\n",
            "featuer Timestamp has 1392 unique values\n",
            "featuer Label has 9 unique values\n"
          ]
        }
      ]
    },
    {
      "cell_type": "code",
      "source": [
        "print(data.shape)\n",
        "print('------------')\n",
        "data = data.drop(labels = ['Flow ID', 'Src IP', 'Dst IP', 'Timestamp'] , axis = 1)\n",
        "print(data.shape)"
      ],
      "metadata": {
        "colab": {
          "base_uri": "https://localhost:8080/"
        },
        "id": "IUsiO6Fco3mh",
        "outputId": "cd67a825-d3e5-4518-c0a0-a498ecb79f15"
      },
      "execution_count": null,
      "outputs": [
        {
          "output_type": "stream",
          "name": "stdout",
          "text": [
            "(343889, 84)\n",
            "------------\n",
            "(343889, 80)\n"
          ]
        }
      ]
    },
    {
      "cell_type": "code",
      "source": [
        "for col in data.columns:\n",
        "  if data[col].dtype == 'object':\n",
        "    unique_value = data[col].unique()\n",
        "    print(\"featuer {} has {} unique values\".format(col, len(unique_value)))"
      ],
      "metadata": {
        "colab": {
          "base_uri": "https://localhost:8080/"
        },
        "id": "eHzi0caco7kM",
        "outputId": "a324aa79-89fe-41ef-e6c5-ebd4be7a3e1d"
      },
      "execution_count": null,
      "outputs": [
        {
          "output_type": "stream",
          "name": "stdout",
          "text": [
            "featuer Label has 9 unique values\n"
          ]
        }
      ]
    },
    {
      "cell_type": "code",
      "source": [
        "Label = data['Label']\n",
        "new_label = Label.replace({'Normal':0 , 'DDoS':1, 'DDoS ':1, 'Probe':2, 'DoS':3,\n",
        "                           'BFA':4, 'Web-Attack':5, 'BOTNET':6, 'U2R':7})\n",
        "data['Label'] = new_label\n",
        "\n",
        "del Label\n",
        "del new_label"
      ],
      "metadata": {
        "id": "6lme3AgPo-4L"
      },
      "execution_count": null,
      "outputs": []
    },
    {
      "cell_type": "code",
      "source": [
        "x = data.iloc[:,:-1]\n",
        "y = data.iloc[:,-1]\n",
        "from sklearn.model_selection import train_test_split\n",
        "x_train, x_test, y_train, y_test = train_test_split(x, y , test_size=0.20, random_state=7)\n",
        "\n",
        "data = x_train.join(y_train)\n",
        "print(data.shape)\n",
        "\n",
        "del x\n",
        "del y"
      ],
      "metadata": {
        "colab": {
          "base_uri": "https://localhost:8080/"
        },
        "id": "s5yEDY6ApCb4",
        "outputId": "fcb367a3-4c0c-4234-9011-9f089b60edbe"
      },
      "execution_count": null,
      "outputs": [
        {
          "output_type": "stream",
          "name": "stdout",
          "text": [
            "(275111, 80)\n"
          ]
        }
      ]
    },
    {
      "cell_type": "code",
      "source": [
        "Normal = [1,2,3,4,5,6,7]\n",
        "DDos = [0,2,3,4,5,6,7]\n",
        "Probe = [0,1,3,4,5,6,7]\n",
        "Dos = [0,1,2,4,5,6,7]\n",
        "BFA = [0,1,2,3,5,6,7]\n",
        "Web = [0,1,2,3,4,6,7]\n",
        "Botnet = [0,1,2,3,4,5,7]\n",
        "U2R = [0,1,2,3,4,5,6]\n",
        "\n",
        "Normal = data[~data['Label'].isin(Normal)]\n",
        "Probe = data[~data['Label'].isin(Probe)]\n",
        "Dos = data[~data['Label'].isin(Dos)]\n",
        "DDos = data[~data['Label'].isin(DDos)]\n",
        "BFA = data[~data['Label'].isin(BFA)]\n",
        "Web = data[~data['Label'].isin(Web)]\n",
        "Botnet = data[~data['Label'].isin(Botnet)]\n",
        "U2R = data[~data['Label'].isin(U2R)]\n",
        "\n",
        "print('Number of Normal ==> ', Normal.shape[0])\n",
        "print('Number of DDos ==> ', DDos.shape[0])\n",
        "print('Number of Probe ==> ', Probe.shape[0])\n",
        "print('Number of Dos ==> ', Dos.shape[0])\n",
        "print('Number of BFA ==> ', BFA.shape[0])\n",
        "print('Number of Web ==> ', Web.shape[0])\n",
        "print('Number of Botnet ==> ', Botnet.shape[0])\n",
        "print('Number of U2R ==> ', U2R.shape[0])"
      ],
      "metadata": {
        "colab": {
          "base_uri": "https://localhost:8080/"
        },
        "id": "JDDlTwBOpIrY",
        "outputId": "c3f42fe3-ce69-4202-ae04-cc054c07ead0"
      },
      "execution_count": null,
      "outputs": [
        {
          "output_type": "stream",
          "name": "stdout",
          "text": [
            "Number of Normal ==>  54657\n",
            "Number of DDos ==>  97383\n",
            "Number of Probe ==>  78642\n",
            "Number of Dos ==>  43006\n",
            "Number of BFA ==>  1127\n",
            "Number of Web ==>  143\n",
            "Number of Botnet ==>  141\n",
            "Number of U2R ==>  12\n"
          ]
        }
      ]
    },
    {
      "cell_type": "code",
      "source": [
        "def convert_to_txt_file(data, out_file):\n",
        "    \n",
        "    data = data.values\n",
        "    file = open(out_file,'w')\n",
        "    \n",
        "    features = ['Src Port', 'Dst Port', 'Protocol', 'Flow Duration', 'Tot Fwd Pkts',\n",
        "       'Tot Bwd Pkts', 'TotLen Fwd Pkts', 'TotLen Bwd Pkts', 'Fwd Pkt Len Max',\n",
        "       'Fwd Pkt Len Min', 'Fwd Pkt Len Mean', 'Fwd Pkt Len Std',\n",
        "       'Bwd Pkt Len Max', 'Bwd Pkt Len Min', 'Bwd Pkt Len Mean',\n",
        "       'Bwd Pkt Len Std', 'Flow Byts/s', 'Flow Pkts/s', 'Flow IAT Mean',\n",
        "       'Flow IAT Std', 'Flow IAT Max', 'Flow IAT Min', 'Fwd IAT Tot',\n",
        "       'Fwd IAT Mean', 'Fwd IAT Std', 'Fwd IAT Max', 'Fwd IAT Min',\n",
        "       'Bwd IAT Tot', 'Bwd IAT Mean', 'Bwd IAT Std', 'Bwd IAT Max',\n",
        "       'Bwd IAT Min', 'Fwd PSH Flags', 'Bwd PSH Flags', 'Fwd URG Flags',\n",
        "       'Bwd URG Flags', 'Fwd Header Len', 'Bwd Header Len', 'Fwd Pkts/s',\n",
        "       'Bwd Pkts/s', 'Pkt Len Min', 'Pkt Len Max', 'Pkt Len Mean',\n",
        "       'Pkt Len Std', 'Pkt Len Var', 'FIN Flag Cnt', 'SYN Flag Cnt',\n",
        "       'RST Flag Cnt', 'PSH Flag Cnt', 'ACK Flag Cnt', 'URG Flag Cnt',\n",
        "       'CWE Flag Count', 'ECE Flag Cnt', 'Down/Up Ratio', 'Pkt Size Avg',\n",
        "       'Fwd Seg Size Avg', 'Bwd Seg Size Avg', 'Fwd Byts/b Avg',\n",
        "       'Fwd Pkts/b Avg', 'Fwd Blk Rate Avg', 'Bwd Byts/b Avg',\n",
        "       'Bwd Pkts/b Avg', 'Bwd Blk Rate Avg', 'Subflow Fwd Pkts',\n",
        "       'Subflow Fwd Byts', 'Subflow Bwd Pkts', 'Subflow Bwd Byts',\n",
        "       'Init Fwd Win Byts', 'Init Bwd Win Byts', 'Fwd Act Data Pkts',\n",
        "       'Fwd Seg Size Min', 'Active Mean', 'Active Std', 'Active Max',\n",
        "       'Active Min', 'Idle Mean', 'Idle Std', 'Idle Max', 'Idle Min', 'Label']\n",
        "\n",
        "    for row in data:\n",
        "        \n",
        "        for i in range(len(features)):\n",
        "            file.write(str(features[i]) + '=' + str(str(row[i])+','))\n",
        "        file.write('\\n')    \n",
        "    file.close()\n",
        "\n",
        "\n",
        "convert_to_txt_file(Normal,'/content/drive/MyDrive/Normal.txt')\n",
        "convert_to_txt_file(DDos,'/content/drive/MyDrive/DDos.txt')\n",
        "convert_to_txt_file(Probe,'/content/drive/MyDrive/Probe.txt')\n",
        "convert_to_txt_file(Dos,'/content/drive/MyDrive/Dos.txt')\n",
        "convert_to_txt_file(BFA,'/content/drive/MyDrive/BFA.txt')\n",
        "convert_to_txt_file(Web,'/content/drive/MyDrive/Web.txt')\n",
        "convert_to_txt_file(Botnet,'/content/drive/MyDrive/Botnet.txt')\n",
        "convert_to_txt_file(U2R,'/content/drive/MyDrive/U2R.txt')"
      ],
      "metadata": {
        "id": "uk0HIbVdpW4y"
      },
      "execution_count": null,
      "outputs": []
    },
    {
      "cell_type": "code",
      "source": [
        "del Normal \n",
        "del Probe \n",
        "del Dos \n",
        "del DDos \n",
        "del BFA \n",
        "del Web \n",
        "del Botnet \n",
        "del U2R "
      ],
      "metadata": {
        "id": "6VGVc_CHpeDg"
      },
      "execution_count": null,
      "outputs": []
    },
    {
      "cell_type": "code",
      "source": [
        "def Read_Data(filename, delimiter=','):\n",
        "    data = {}\n",
        "    trans = 0\n",
        "    f = open(filename, 'r', encoding=\"utf8\")\n",
        "    for row in f:\n",
        "        trans += 1\n",
        "        for item in row.split(delimiter):\n",
        "            if item not in data:\n",
        "                data[item] = set()\n",
        "            data[item].add(trans)\n",
        "    f.close()\n",
        "    data.pop(\"\\n\",None)\n",
        "    data.pop(\"\",None)\n",
        "    return data\n",
        "\n",
        "Data_Normal = Read_Data('/content/drive/MyDrive/Normal.txt', ',') #change the delimiter based on your input file\n",
        "Data_DDos = Read_Data('/content/drive/MyDrive/DDos.txt', ',') #change the delimiter based on your input file\n",
        "Data_Probe = Read_Data('/content/drive/MyDrive/Probe.txt', ',') #change the delimiter based on your input file\n",
        "Data_Dos = Read_Data('/content/drive/MyDrive/Dos.txt', ',') #change the delimiter based on your input file\n",
        "Data_BFA = Read_Data('/content/drive/MyDrive/BFA.txt', ',') #change the delimiter based on your input file\n",
        "Data_Web = Read_Data('/content/drive/MyDrive/Web.txt', ',') #change the delimiter based on your input file\n",
        "Data_Botnet = Read_Data('/content/drive/MyDrive/Botnet.txt', ',') #change the delimiter based on your input file\n",
        "Data_U2R = Read_Data('/content/drive/MyDrive/U2R.txt', ',') #change the delimiter based on your input file"
      ],
      "metadata": {
        "id": "xzK6QQCbpn_7"
      },
      "execution_count": null,
      "outputs": []
    },
    {
      "cell_type": "code",
      "source": [
        "def Frequent(items):\n",
        "    FreqItems = dict()\n",
        "    while items:\n",
        "        i,itids = items.pop()\n",
        "        isupp = len(itids)\n",
        "\n",
        "        FreqItems[i] = isupp\n",
        "    \n",
        "    return FreqItems\n",
        "\n",
        "Frequent_Normal = Frequent(list(Data_Normal.items()))\n",
        "Frequent_DDos = Frequent(list(Data_DDos.items()))\n",
        "Frequent_Probe = Frequent(list(Data_Probe.items()))\n",
        "Frequent_Dos = Frequent(list(Data_Dos.items()))\n",
        "Frequent_BFA = Frequent(list(Data_BFA.items()))\n",
        "Frequent_Web = Frequent(list(Data_Web.items()))\n",
        "Frequent_Botnet = Frequent(list(Data_Botnet.items()))\n",
        "Frequent_U2R = Frequent(list(Data_U2R.items()))\n",
        "\n",
        "del Frequent_Normal['Label=0.0']\n",
        "del Frequent_DDos['Label=1.0']\n",
        "del Frequent_Probe['Label=2.0']\n",
        "del Frequent_Dos['Label=3.0']\n",
        "\n",
        "del Frequent_BFA['Label=4.0']\n",
        "del Frequent_Web['Label=5.0']\n",
        "del Frequent_Botnet['Label=6.0']\n",
        "del Frequent_U2R['Label=7.0']"
      ],
      "metadata": {
        "id": "s5T50P23pskz"
      },
      "execution_count": null,
      "outputs": []
    },
    {
      "cell_type": "code",
      "source": [
        "del Data_Normal \n",
        "del Data_DDos \n",
        "del Data_Probe \n",
        "del Data_Dos \n",
        "del Data_BFA \n",
        "del Data_Web \n",
        "del Data_Botnet \n",
        "del Data_U2R "
      ],
      "metadata": {
        "id": "KXAAe5nnpx_W"
      },
      "execution_count": null,
      "outputs": []
    },
    {
      "cell_type": "code",
      "source": [
        "Items = list(set(list(Frequent_Normal.keys())).union(set(list(Frequent_DDos.keys()))).union(set(list(Frequent_Probe.keys()))).union(set(list(Frequent_Dos.keys()))).union(set(list(Frequent_BFA.keys()))).union(set(list(Frequent_Web.keys()))).union(set(list(Frequent_Botnet.keys()))).union(set(list(Frequent_U2R.keys()))))\n",
        "\n",
        "print(len(Items))"
      ],
      "metadata": {
        "colab": {
          "base_uri": "https://localhost:8080/"
        },
        "id": "1ZM6TKMwp5ug",
        "outputId": "0b6f750e-63f4-4ea9-fed1-5ab59a491304"
      },
      "execution_count": null,
      "outputs": [
        {
          "output_type": "stream",
          "name": "stdout",
          "text": [
            "1310514\n"
          ]
        }
      ]
    },
    {
      "cell_type": "code",
      "source": [
        "Term_Frequency_Vector = dict()\n",
        "\n",
        "for x in ['Normal','DDos','Probe','Dos','BFA', 'Web', 'Botnet','U2R']:\n",
        "    Term_Frequency_Vector[x] = dict()\n",
        "    \n",
        "for key in Term_Frequency_Vector.keys():\n",
        "    for item in Items:\n",
        "        Term_Frequency_Vector[key][item] = 0"
      ],
      "metadata": {
        "id": "AAQAGkJ4p-kl"
      },
      "execution_count": null,
      "outputs": []
    },
    {
      "cell_type": "code",
      "source": [
        "Term_Frequency_Vector['Normal'].update(Frequent_Normal)\n",
        "Term_Frequency_Vector['DDos'].update(Frequent_DDos)\n",
        "Term_Frequency_Vector['Probe'].update(Frequent_Probe)\n",
        "Term_Frequency_Vector['Dos'].update(Frequent_Dos)\n",
        "Term_Frequency_Vector['BFA'].update(Frequent_BFA)\n",
        "Term_Frequency_Vector['Web'].update(Frequent_Web)\n",
        "Term_Frequency_Vector['Botnet'].update(Frequent_Botnet)\n",
        "Term_Frequency_Vector['U2R'].update(Frequent_U2R)"
      ],
      "metadata": {
        "id": "LLf9yEZCqEXR"
      },
      "execution_count": null,
      "outputs": []
    },
    {
      "cell_type": "code",
      "source": [
        "del Frequent_Normal\n",
        "del Frequent_DDos\n",
        "del Frequent_Probe\n",
        "del Frequent_Dos\n",
        "\n",
        "del Frequent_BFA\n",
        "del Frequent_Web\n",
        "del Frequent_Botnet\n",
        "del Frequent_U2R"
      ],
      "metadata": {
        "id": "mzHTHiiaqIc9"
      },
      "execution_count": null,
      "outputs": []
    },
    {
      "cell_type": "code",
      "source": [
        "import numpy as np\n",
        "ferquent_items = np.zeros((len(Term_Frequency_Vector.keys()),len(Term_Frequency_Vector['Normal'])))\n",
        "print(ferquent_items.shape)"
      ],
      "metadata": {
        "colab": {
          "base_uri": "https://localhost:8080/"
        },
        "id": "1LXdBETOqLs4",
        "outputId": "c7ace022-27b3-419e-d9ac-e07737ebc736"
      },
      "execution_count": null,
      "outputs": [
        {
          "output_type": "stream",
          "name": "stdout",
          "text": [
            "(8, 1310514)\n"
          ]
        }
      ]
    },
    {
      "cell_type": "code",
      "source": [
        "name = []\n",
        "\n",
        "for index, item in enumerate(Term_Frequency_Vector.keys()):\n",
        "    name.append(item)\n",
        "    j = 0\n",
        "    for key,value in Term_Frequency_Vector[item].items():\n",
        "        ferquent_items[index][j] = value\n",
        "        j += 1"
      ],
      "metadata": {
        "id": "FMh-bWLDqOLJ"
      },
      "execution_count": null,
      "outputs": []
    },
    {
      "cell_type": "code",
      "source": [
        "from sklearn.metrics.pairwise import cosine_similarity,cosine_distances\n",
        "similarity = dict()\n",
        "\n",
        "arr = ferquent_items\n",
        "\n",
        "i = 0\n",
        "for vector in arr:\n",
        "    temp = vector\n",
        "    arr = np.delete(arr, 0, 0)\n",
        "    \n",
        "    j = i\n",
        "    for vec in arr:\n",
        "        j += 1\n",
        "        result = cosine_similarity(temp.reshape(1,-1),vec.reshape(1,-1))\n",
        "        similarity[\"similarity \" + name[i] + \" and \" + name[j]] = result\n",
        "           \n",
        "    i += 1"
      ],
      "metadata": {
        "id": "WnYeuJ9GqTwW"
      },
      "execution_count": null,
      "outputs": []
    },
    {
      "cell_type": "code",
      "source": [
        "for x in sorted(similarity.items(), key=lambda item: item[1], reverse=False):\n",
        "  print(x[0] , '\\t', '%.4f' % x[1][0][0])"
      ],
      "metadata": {
        "colab": {
          "base_uri": "https://localhost:8080/"
        },
        "id": "YTFY15XoqZIp",
        "outputId": "542c4c94-d8c1-4a8b-fb0f-60be36d6ebd2"
      },
      "execution_count": null,
      "outputs": [
        {
          "output_type": "stream",
          "name": "stdout",
          "text": [
            "similarity DDos and U2R \t 0.6132\n",
            "similarity DDos and Botnet \t 0.7372\n",
            "similarity Probe and U2R \t 0.7509\n",
            "similarity DDos and Dos \t 0.7544\n",
            "similarity Normal and DDos \t 0.7616\n",
            "similarity Botnet and U2R \t 0.7747\n",
            "similarity Web and U2R \t 0.7936\n",
            "similarity DDos and BFA \t 0.8003\n",
            "similarity BFA and U2R \t 0.8046\n",
            "similarity DDos and Web \t 0.8057\n",
            "similarity Dos and U2R \t 0.8177\n",
            "similarity Probe and Botnet \t 0.8204\n",
            "similarity Normal and U2R \t 0.8253\n",
            "similarity Normal and Botnet \t 0.8337\n",
            "similarity Normal and Probe \t 0.8353\n",
            "similarity Dos and Botnet \t 0.8385\n",
            "similarity Probe and Dos \t 0.8548\n",
            "similarity BFA and Botnet \t 0.8628\n",
            "similarity Normal and BFA \t 0.8628\n",
            "similarity Normal and Dos \t 0.8636\n",
            "similarity Normal and Web \t 0.8780\n",
            "similarity Probe and Web \t 0.8807\n",
            "similarity Web and Botnet \t 0.8842\n",
            "similarity DDos and Probe \t 0.8856\n",
            "similarity Probe and BFA \t 0.8907\n",
            "similarity Dos and Web \t 0.9416\n",
            "similarity Dos and BFA \t 0.9627\n",
            "similarity BFA and Web \t 0.9706\n"
          ]
        }
      ]
    },
    {
      "cell_type": "code",
      "source": [
        "del ferquent_items\n",
        "del Term_Frequency_Vector"
      ],
      "metadata": {
        "id": "ixWw-DE1qdf6"
      },
      "execution_count": null,
      "outputs": []
    },
    {
      "cell_type": "code",
      "source": [
        "Normal_Dos = [1,2,4,5,6,7]\n",
        "DDos_Probe = [0,3,4,5,6,7]\n",
        "BFA = [0,1,2,3,5,6,7]\n",
        "Web_Botnet = [0,1,2,3,4,7]\n",
        "U2R = [0,1,2,3,4,5,6]\n",
        "\n",
        "Normal_Dos = data[~data['Label'].isin(Normal_Dos)]\n",
        "DDos_Probe = data[~data['Label'].isin(DDos_Probe)]\n",
        "BFA = data[~data['Label'].isin(BFA)]\n",
        "Web_Botnet = data[~data['Label'].isin(Web_Botnet)]\n",
        "U2R = data[~data['Label'].isin(U2R)]\n",
        "\n",
        "\n",
        "print('Number of Normal_Dos ==> ', Normal_Dos.shape[0])\n",
        "print('Number of DDos_Probe ==> ', DDos_Probe.shape[0])\n",
        "print('Number of BFA ==> ', BFA.shape[0])\n",
        "print('Number of Web_Botnet ==> ', Web_Botnet.shape[0])\n",
        "print('Number of U2R ==> ', U2R.shape[0])"
      ],
      "metadata": {
        "colab": {
          "base_uri": "https://localhost:8080/"
        },
        "id": "QlWvHgxTq1fW",
        "outputId": "5b605616-7a16-4455-9df0-a5b3620e8dfa"
      },
      "execution_count": null,
      "outputs": [
        {
          "output_type": "stream",
          "name": "stdout",
          "text": [
            "Number of Normal_Dos ==>  97663\n",
            "Number of DDos_Probe ==>  176025\n",
            "Number of BFA ==>  1127\n",
            "Number of Web_Botnet ==>  284\n",
            "Number of U2R ==>  12\n"
          ]
        }
      ]
    },
    {
      "cell_type": "code",
      "source": [
        "import numpy as np\n",
        "def feature_normalize(data):\n",
        "    \n",
        "    n_col = data.shape[1]-1 #be khater inke yeki az sotonha y hast, ma 1 ra kam mikonim ta fagat tedad x  dashte bashim\n",
        "    mu = np.zeros((1,n_col))\n",
        "    sigma=np.zeros((1,n_col))\n",
        "\n",
        "    data_1 = data.values\n",
        "    \n",
        "    for i in range(n_col):\n",
        "        mu[0,i] = data_1[:,i].mean()\n",
        "        sigma[0,i] = data_1[:,i].std()\n",
        "        data_1[:,i] = (data_1[:,i] - mu[0,i]) / sigma[0,i]\n",
        "    return data_1, mu, sigma"
      ],
      "metadata": {
        "id": "mpdjAAAurfgw"
      },
      "execution_count": null,
      "outputs": []
    },
    {
      "cell_type": "code",
      "source": [
        "data_1, mean_1, SD_1 = feature_normalize(Normal_Dos)\n",
        "data_2, mean_2, SD_2 = feature_normalize(DDos_Probe)\n",
        "data_3, mean_3, SD_3 = feature_normalize(Web_Botnet)\n",
        "\n",
        "del Normal_Dos\n",
        "del DDos_Probe\n",
        "del Web_Botnet"
      ],
      "metadata": {
        "colab": {
          "base_uri": "https://localhost:8080/"
        },
        "id": "66A8rXo0rozA",
        "outputId": "fc40cc67-54e2-4c33-f4e5-72aeb04dab8d"
      },
      "execution_count": null,
      "outputs": [
        {
          "output_type": "stream",
          "name": "stderr",
          "text": [
            "<ipython-input-28-7fb63b1e2747>:13: RuntimeWarning: invalid value encountered in true_divide\n",
            "  data_1[:,i] = (data_1[:,i] - mu[0,i]) / sigma[0,i]\n"
          ]
        }
      ]
    },
    {
      "cell_type": "code",
      "source": [
        "for row in data_1:\n",
        "  row[np.where(np.isnan(row))] = 0.0\n",
        "\n",
        "for row in data_2:\n",
        "  row[np.where(np.isnan(row))] = 0.0\n",
        "\n",
        "for row in data_3:\n",
        "  row[np.where(np.isnan(row))] = 0.0"
      ],
      "metadata": {
        "id": "SXiGAXA2rsxA"
      },
      "execution_count": null,
      "outputs": []
    },
    {
      "cell_type": "code",
      "source": [
        "from keras.models import Sequential\n",
        "from keras.layers import Convolution1D,MaxPooling1D, Flatten,Dense\n",
        "\n",
        "cnn_1 = Sequential()\n",
        "\n",
        "cnn_1.add(Convolution1D(filters= 512, kernel_size= 3,activation=\"relu\",input_shape=(79, 1)))\n",
        "cnn_1.add(MaxPooling1D(pool_size=(2)))\n",
        "cnn_1.add(Convolution1D(filters= 256, kernel_size= 3, activation=\"relu\"))\n",
        "cnn_1.add(MaxPooling1D(pool_size=(2)))\n",
        "cnn_1.add(Convolution1D(filters= 128, kernel_size= 3, activation=\"relu\"))\n",
        "cnn_1.add(MaxPooling1D(pool_size=(2)))\n",
        "cnn_1.add(Convolution1D(filters= 64, kernel_size= 3, activation=\"relu\"))\n",
        "cnn_1.add(MaxPooling1D(pool_size=(2)))\n",
        "\n",
        "cnn_1.add(Flatten())\n",
        "cnn_1.add(Dense(120, activation=\"relu\"))\n",
        "cnn_1.add(Dense(80, activation=\"relu\"))\n",
        "cnn_1.add(Dense(1, activation='sigmoid'))"
      ],
      "metadata": {
        "id": "8MdN-DucryvG"
      },
      "execution_count": null,
      "outputs": []
    },
    {
      "cell_type": "code",
      "source": [
        "cnn_1.summary()"
      ],
      "metadata": {
        "colab": {
          "base_uri": "https://localhost:8080/"
        },
        "id": "kgmMKVzkr4TB",
        "outputId": "4443b5ca-ab76-48a6-fe88-049b9217d028"
      },
      "execution_count": null,
      "outputs": [
        {
          "output_type": "stream",
          "name": "stdout",
          "text": [
            "Model: \"sequential\"\n",
            "_________________________________________________________________\n",
            " Layer (type)                Output Shape              Param #   \n",
            "=================================================================\n",
            " conv1d (Conv1D)             (None, 77, 512)           2048      \n",
            "                                                                 \n",
            " max_pooling1d (MaxPooling1D  (None, 38, 512)          0         \n",
            " )                                                               \n",
            "                                                                 \n",
            " conv1d_1 (Conv1D)           (None, 36, 256)           393472    \n",
            "                                                                 \n",
            " max_pooling1d_1 (MaxPooling  (None, 18, 256)          0         \n",
            " 1D)                                                             \n",
            "                                                                 \n",
            " conv1d_2 (Conv1D)           (None, 16, 128)           98432     \n",
            "                                                                 \n",
            " max_pooling1d_2 (MaxPooling  (None, 8, 128)           0         \n",
            " 1D)                                                             \n",
            "                                                                 \n",
            " conv1d_3 (Conv1D)           (None, 6, 64)             24640     \n",
            "                                                                 \n",
            " max_pooling1d_3 (MaxPooling  (None, 3, 64)            0         \n",
            " 1D)                                                             \n",
            "                                                                 \n",
            " flatten (Flatten)           (None, 192)               0         \n",
            "                                                                 \n",
            " dense (Dense)               (None, 120)               23160     \n",
            "                                                                 \n",
            " dense_1 (Dense)             (None, 80)                9680      \n",
            "                                                                 \n",
            " dense_2 (Dense)             (None, 1)                 81        \n",
            "                                                                 \n",
            "=================================================================\n",
            "Total params: 551,513\n",
            "Trainable params: 551,513\n",
            "Non-trainable params: 0\n",
            "_________________________________________________________________\n"
          ]
        }
      ]
    },
    {
      "cell_type": "code",
      "source": [
        "cnn_1.compile(loss=\"binary_crossentropy\", optimizer=\"adam\",metrics=['accuracy'])"
      ],
      "metadata": {
        "id": "bkTuy0xDr8QR"
      },
      "execution_count": null,
      "outputs": []
    },
    {
      "cell_type": "code",
      "source": [
        "x_train_data_1 = data_1[:,:-1]\n",
        "y_train_data_1 = data_1[:,-1]\n",
        "\n",
        "y_train_data_1[np.where(y_train_data_1==0)] = 0\n",
        "y_train_data_1[np.where(y_train_data_1==3)] = 1\n",
        "\n",
        "X_train_cnn_1 = np.reshape(x_train_data_1, (x_train_data_1.shape[0],x_train_data_1.shape[1],1))\n",
        "\n",
        "cnn_1.fit(X_train_cnn_1, y_train_data_1, epochs=60, batch_size=128)"
      ],
      "metadata": {
        "colab": {
          "base_uri": "https://localhost:8080/"
        },
        "id": "zflKMmbcsA0H",
        "outputId": "8f935799-0deb-4486-b3b1-5313da9a7ee4"
      },
      "execution_count": null,
      "outputs": [
        {
          "output_type": "stream",
          "name": "stdout",
          "text": [
            "Epoch 1/60\n",
            "763/763 [==============================] - 17s 13ms/step - loss: 0.0409 - accuracy: 0.9867\n",
            "Epoch 2/60\n",
            "763/763 [==============================] - 9s 11ms/step - loss: 0.0104 - accuracy: 0.9973\n",
            "Epoch 3/60\n",
            "763/763 [==============================] - 9s 12ms/step - loss: 0.0034 - accuracy: 0.9992\n",
            "Epoch 4/60\n",
            "763/763 [==============================] - 10s 13ms/step - loss: 0.0084 - accuracy: 0.9977\n",
            "Epoch 5/60\n",
            "763/763 [==============================] - 10s 13ms/step - loss: 0.0063 - accuracy: 0.9981\n",
            "Epoch 6/60\n",
            "763/763 [==============================] - 9s 12ms/step - loss: 0.0025 - accuracy: 0.9993\n",
            "Epoch 7/60\n",
            "763/763 [==============================] - 9s 12ms/step - loss: 0.0021 - accuracy: 0.9994\n",
            "Epoch 8/60\n",
            "763/763 [==============================] - 9s 11ms/step - loss: 0.0022 - accuracy: 0.9994\n",
            "Epoch 9/60\n",
            "763/763 [==============================] - 9s 12ms/step - loss: 0.0011 - accuracy: 0.9997\n",
            "Epoch 10/60\n",
            "763/763 [==============================] - 9s 12ms/step - loss: 0.0039 - accuracy: 0.9991\n",
            "Epoch 11/60\n",
            "763/763 [==============================] - 9s 12ms/step - loss: 0.0023 - accuracy: 0.9994\n",
            "Epoch 12/60\n",
            "763/763 [==============================] - 9s 12ms/step - loss: 7.7464e-04 - accuracy: 0.9998\n",
            "Epoch 13/60\n",
            "763/763 [==============================] - 9s 12ms/step - loss: 0.0031 - accuracy: 0.9993\n",
            "Epoch 14/60\n",
            "763/763 [==============================] - 9s 11ms/step - loss: 5.4158e-04 - accuracy: 0.9998\n",
            "Epoch 15/60\n",
            "763/763 [==============================] - 9s 12ms/step - loss: 0.0023 - accuracy: 0.9995\n",
            "Epoch 16/60\n",
            "763/763 [==============================] - 9s 12ms/step - loss: 0.0016 - accuracy: 0.9996\n",
            "Epoch 17/60\n",
            "763/763 [==============================] - 9s 11ms/step - loss: 7.9969e-04 - accuracy: 0.9997\n",
            "Epoch 18/60\n",
            "763/763 [==============================] - 9s 12ms/step - loss: 0.0015 - accuracy: 0.9997\n",
            "Epoch 19/60\n",
            "763/763 [==============================] - 9s 12ms/step - loss: 0.0034 - accuracy: 0.9994\n",
            "Epoch 20/60\n",
            "763/763 [==============================] - 9s 12ms/step - loss: 0.0013 - accuracy: 0.9997\n",
            "Epoch 21/60\n",
            "763/763 [==============================] - 9s 12ms/step - loss: 8.8735e-04 - accuracy: 0.9998\n",
            "Epoch 22/60\n",
            "763/763 [==============================] - 9s 12ms/step - loss: 6.1383e-04 - accuracy: 0.9998\n",
            "Epoch 23/60\n",
            "763/763 [==============================] - 9s 11ms/step - loss: 5.0957e-04 - accuracy: 0.9999\n",
            "Epoch 24/60\n",
            "763/763 [==============================] - 9s 12ms/step - loss: 0.0018 - accuracy: 0.9996\n",
            "Epoch 25/60\n",
            "763/763 [==============================] - 9s 12ms/step - loss: 6.4660e-04 - accuracy: 0.9998\n",
            "Epoch 26/60\n",
            "763/763 [==============================] - 9s 11ms/step - loss: 0.0013 - accuracy: 0.9997\n",
            "Epoch 27/60\n",
            "763/763 [==============================] - 9s 12ms/step - loss: 0.0011 - accuracy: 0.9998\n",
            "Epoch 28/60\n",
            "763/763 [==============================] - 9s 12ms/step - loss: 7.4336e-04 - accuracy: 0.9999\n",
            "Epoch 29/60\n",
            "763/763 [==============================] - 9s 12ms/step - loss: 0.0012 - accuracy: 0.9997\n",
            "Epoch 30/60\n",
            "763/763 [==============================] - 9s 12ms/step - loss: 7.7445e-04 - accuracy: 0.9998\n",
            "Epoch 31/60\n",
            "763/763 [==============================] - 9s 12ms/step - loss: 2.9334e-04 - accuracy: 0.9999\n",
            "Epoch 32/60\n",
            "763/763 [==============================] - 9s 12ms/step - loss: 2.6105e-04 - accuracy: 1.0000\n",
            "Epoch 33/60\n",
            "763/763 [==============================] - 9s 12ms/step - loss: 2.0922e-04 - accuracy: 1.0000\n",
            "Epoch 34/60\n",
            "763/763 [==============================] - 9s 12ms/step - loss: 0.0036 - accuracy: 0.9993\n",
            "Epoch 35/60\n",
            "763/763 [==============================] - 9s 12ms/step - loss: 5.4277e-04 - accuracy: 0.9998\n",
            "Epoch 36/60\n",
            "763/763 [==============================] - 9s 12ms/step - loss: 2.4765e-04 - accuracy: 0.9999\n",
            "Epoch 37/60\n",
            "763/763 [==============================] - 9s 12ms/step - loss: 2.2291e-04 - accuracy: 0.9999\n",
            "Epoch 38/60\n",
            "763/763 [==============================] - 9s 12ms/step - loss: 0.0027 - accuracy: 0.9996\n",
            "Epoch 39/60\n",
            "763/763 [==============================] - 9s 12ms/step - loss: 7.7361e-04 - accuracy: 0.9998\n",
            "Epoch 40/60\n",
            "763/763 [==============================] - 9s 12ms/step - loss: 3.4408e-04 - accuracy: 0.9999\n",
            "Epoch 41/60\n",
            "763/763 [==============================] - 9s 12ms/step - loss: 2.4267e-04 - accuracy: 1.0000\n",
            "Epoch 42/60\n",
            "763/763 [==============================] - 9s 12ms/step - loss: 0.0017 - accuracy: 0.9997\n",
            "Epoch 43/60\n",
            "763/763 [==============================] - 9s 12ms/step - loss: 6.6197e-04 - accuracy: 0.9999\n",
            "Epoch 44/60\n",
            "763/763 [==============================] - 9s 12ms/step - loss: 7.4723e-04 - accuracy: 0.9998\n",
            "Epoch 45/60\n",
            "763/763 [==============================] - 9s 12ms/step - loss: 2.9468e-04 - accuracy: 1.0000\n",
            "Epoch 46/60\n",
            "763/763 [==============================] - 9s 12ms/step - loss: 9.7858e-04 - accuracy: 0.9998\n",
            "Epoch 47/60\n",
            "763/763 [==============================] - 9s 12ms/step - loss: 6.0490e-04 - accuracy: 0.9998\n",
            "Epoch 48/60\n",
            "763/763 [==============================] - 9s 12ms/step - loss: 7.0517e-04 - accuracy: 0.9999\n",
            "Epoch 49/60\n",
            "763/763 [==============================] - 9s 12ms/step - loss: 7.5855e-04 - accuracy: 0.9998\n",
            "Epoch 50/60\n",
            "763/763 [==============================] - 9s 12ms/step - loss: 6.4234e-04 - accuracy: 0.9999\n",
            "Epoch 51/60\n",
            "763/763 [==============================] - 9s 12ms/step - loss: 2.1631e-04 - accuracy: 1.0000\n",
            "Epoch 52/60\n",
            "763/763 [==============================] - 9s 12ms/step - loss: 2.2286e-04 - accuracy: 1.0000\n",
            "Epoch 53/60\n",
            "763/763 [==============================] - 9s 12ms/step - loss: 1.8486e-04 - accuracy: 1.0000\n",
            "Epoch 54/60\n",
            "763/763 [==============================] - 9s 12ms/step - loss: 0.0031 - accuracy: 0.9998\n",
            "Epoch 55/60\n",
            "763/763 [==============================] - 9s 12ms/step - loss: 0.0013 - accuracy: 0.9998\n",
            "Epoch 56/60\n",
            "763/763 [==============================] - 9s 12ms/step - loss: 2.5338e-04 - accuracy: 1.0000\n",
            "Epoch 57/60\n",
            "763/763 [==============================] - 9s 11ms/step - loss: 1.6052e-04 - accuracy: 1.0000\n",
            "Epoch 58/60\n",
            "763/763 [==============================] - 9s 12ms/step - loss: 1.5722e-04 - accuracy: 1.0000\n",
            "Epoch 59/60\n",
            "763/763 [==============================] - 9s 12ms/step - loss: 1.5211e-04 - accuracy: 1.0000\n",
            "Epoch 60/60\n",
            "763/763 [==============================] - 9s 12ms/step - loss: 1.7599e-04 - accuracy: 1.0000\n"
          ]
        },
        {
          "output_type": "execute_result",
          "data": {
            "text/plain": [
              "<keras.callbacks.History at 0x7f8d014804c0>"
            ]
          },
          "metadata": {},
          "execution_count": 34
        }
      ]
    },
    {
      "cell_type": "code",
      "source": [
        "cnn_2 = Sequential()\n",
        "\n",
        "cnn_2.add(Convolution1D(filters= 512, kernel_size= 3,activation=\"relu\",input_shape=(79, 1)))\n",
        "cnn_2.add(MaxPooling1D(pool_size=(2)))\n",
        "cnn_2.add(Convolution1D(filters= 256, kernel_size= 3, activation=\"relu\"))\n",
        "cnn_2.add(MaxPooling1D(pool_size=(2)))\n",
        "cnn_2.add(Convolution1D(filters= 128, kernel_size= 3, activation=\"relu\"))\n",
        "cnn_2.add(MaxPooling1D(pool_size=(2)))\n",
        "cnn_2.add(Convolution1D(filters= 64, kernel_size= 3, activation=\"relu\"))\n",
        "cnn_2.add(MaxPooling1D(pool_size=(2)))\n",
        "\n",
        "cnn_2.add(Flatten())\n",
        "cnn_2.add(Dense(120, activation=\"relu\"))\n",
        "cnn_2.add(Dense(80, activation=\"relu\"))\n",
        "cnn_2.add(Dense(1, activation='sigmoid'))"
      ],
      "metadata": {
        "id": "73KHKXGwsEKw"
      },
      "execution_count": null,
      "outputs": []
    },
    {
      "cell_type": "code",
      "source": [
        "cnn_2.compile(loss=\"binary_crossentropy\", optimizer=\"adam\",metrics=['accuracy'])"
      ],
      "metadata": {
        "id": "lY4czG1cukbt"
      },
      "execution_count": null,
      "outputs": []
    },
    {
      "cell_type": "code",
      "source": [
        "x_train_data_2 = data_2[:,:-1]\n",
        "y_train_data_2 = data_2[:,-1]\n",
        "\n",
        "y_train_data_2[np.where(y_train_data_2==1)] = 0\n",
        "y_train_data_2[np.where(y_train_data_2==2)] = 1\n",
        "\n",
        "X_train_cnn_2 = np.reshape(x_train_data_2, (x_train_data_2.shape[0],x_train_data_2.shape[1],1))\n",
        "\n",
        "cnn_2.fit(X_train_cnn_2, y_train_data_2, epochs=60, batch_size=128)"
      ],
      "metadata": {
        "colab": {
          "base_uri": "https://localhost:8080/"
        },
        "id": "LAXFmtRAurtI",
        "outputId": "2618e696-691c-4ce4-abbb-12f6b5aef922"
      },
      "execution_count": null,
      "outputs": [
        {
          "output_type": "stream",
          "name": "stdout",
          "text": [
            "Epoch 1/60\n",
            "1376/1376 [==============================] - 20s 13ms/step - loss: 0.0127 - accuracy: 0.9971\n",
            "Epoch 2/60\n",
            "1376/1376 [==============================] - 17s 12ms/step - loss: 0.0014 - accuracy: 0.9998\n",
            "Epoch 3/60\n",
            "1376/1376 [==============================] - 17s 12ms/step - loss: 8.1249e-04 - accuracy: 0.9999\n",
            "Epoch 4/60\n",
            "1376/1376 [==============================] - 17s 12ms/step - loss: 6.4450e-04 - accuracy: 0.9999\n",
            "Epoch 5/60\n",
            "1376/1376 [==============================] - 17s 12ms/step - loss: 2.0050e-04 - accuracy: 1.0000\n",
            "Epoch 6/60\n",
            "1376/1376 [==============================] - 16s 12ms/step - loss: 0.0018 - accuracy: 0.9999\n",
            "Epoch 7/60\n",
            "1376/1376 [==============================] - 16s 12ms/step - loss: 9.3292e-04 - accuracy: 0.9999\n",
            "Epoch 8/60\n",
            "1376/1376 [==============================] - 16s 12ms/step - loss: 5.6880e-04 - accuracy: 0.9999\n",
            "Epoch 9/60\n",
            "1376/1376 [==============================] - 17s 12ms/step - loss: 1.2768e-04 - accuracy: 1.0000\n",
            "Epoch 10/60\n",
            "1376/1376 [==============================] - 16s 12ms/step - loss: 1.0638e-04 - accuracy: 1.0000\n",
            "Epoch 11/60\n",
            "1376/1376 [==============================] - 16s 12ms/step - loss: 4.2805e-04 - accuracy: 0.9999\n",
            "Epoch 12/60\n",
            "1376/1376 [==============================] - 16s 12ms/step - loss: 4.6835e-04 - accuracy: 0.9999\n",
            "Epoch 13/60\n",
            "1376/1376 [==============================] - 17s 12ms/step - loss: 2.2731e-04 - accuracy: 1.0000\n",
            "Epoch 14/60\n",
            "1376/1376 [==============================] - 16s 12ms/step - loss: 8.5230e-05 - accuracy: 1.0000\n",
            "Epoch 15/60\n",
            "1376/1376 [==============================] - 16s 12ms/step - loss: 1.2572e-04 - accuracy: 1.0000\n",
            "Epoch 16/60\n",
            "1376/1376 [==============================] - 17s 12ms/step - loss: 2.6886e-04 - accuracy: 0.9999\n",
            "Epoch 17/60\n",
            "1376/1376 [==============================] - 16s 12ms/step - loss: 1.9215e-04 - accuracy: 1.0000\n",
            "Epoch 18/60\n",
            "1376/1376 [==============================] - 17s 12ms/step - loss: 6.8722e-05 - accuracy: 1.0000\n",
            "Epoch 19/60\n",
            "1376/1376 [==============================] - 16s 12ms/step - loss: 6.7059e-04 - accuracy: 0.9999\n",
            "Epoch 20/60\n",
            "1376/1376 [==============================] - 17s 12ms/step - loss: 6.2591e-04 - accuracy: 0.9999\n",
            "Epoch 21/60\n",
            "1376/1376 [==============================] - 16s 12ms/step - loss: 7.8980e-05 - accuracy: 0.9999\n",
            "Epoch 22/60\n",
            "1376/1376 [==============================] - 17s 12ms/step - loss: 1.4631e-04 - accuracy: 1.0000\n",
            "Epoch 23/60\n",
            "1376/1376 [==============================] - 17s 12ms/step - loss: 6.7072e-05 - accuracy: 1.0000\n",
            "Epoch 24/60\n",
            "1376/1376 [==============================] - 16s 12ms/step - loss: 4.2452e-05 - accuracy: 1.0000\n",
            "Epoch 25/60\n",
            "1376/1376 [==============================] - 16s 12ms/step - loss: 2.4155e-04 - accuracy: 1.0000\n",
            "Epoch 26/60\n",
            "1376/1376 [==============================] - 16s 12ms/step - loss: 7.6727e-05 - accuracy: 1.0000\n",
            "Epoch 27/60\n",
            "1376/1376 [==============================] - 17s 12ms/step - loss: 7.8145e-05 - accuracy: 1.0000\n",
            "Epoch 28/60\n",
            "1376/1376 [==============================] - 16s 12ms/step - loss: 5.8949e-05 - accuracy: 1.0000\n",
            "Epoch 29/60\n",
            "1376/1376 [==============================] - 16s 12ms/step - loss: 5.9671e-05 - accuracy: 1.0000\n",
            "Epoch 30/60\n",
            "1376/1376 [==============================] - 16s 12ms/step - loss: 5.9193e-05 - accuracy: 1.0000\n",
            "Epoch 31/60\n",
            "1376/1376 [==============================] - 17s 12ms/step - loss: 5.8846e-05 - accuracy: 1.0000\n",
            "Epoch 32/60\n",
            "1376/1376 [==============================] - 16s 12ms/step - loss: 5.8505e-05 - accuracy: 1.0000\n",
            "Epoch 33/60\n",
            "1376/1376 [==============================] - 16s 12ms/step - loss: 5.8261e-05 - accuracy: 1.0000\n",
            "Epoch 34/60\n",
            "1376/1376 [==============================] - 16s 12ms/step - loss: 5.8008e-05 - accuracy: 1.0000\n",
            "Epoch 35/60\n",
            "1376/1376 [==============================] - 16s 12ms/step - loss: 5.7841e-05 - accuracy: 1.0000\n",
            "Epoch 36/60\n",
            "1376/1376 [==============================] - 16s 12ms/step - loss: 5.7667e-05 - accuracy: 1.0000\n",
            "Epoch 37/60\n",
            "1376/1376 [==============================] - 16s 12ms/step - loss: 0.0010 - accuracy: 0.9999\n",
            "Epoch 38/60\n",
            "1376/1376 [==============================] - 16s 12ms/step - loss: 6.1985e-05 - accuracy: 1.0000\n",
            "Epoch 39/60\n",
            "1376/1376 [==============================] - 16s 12ms/step - loss: 5.7671e-05 - accuracy: 1.0000\n",
            "Epoch 40/60\n",
            "1376/1376 [==============================] - 16s 12ms/step - loss: 5.2319e-05 - accuracy: 1.0000\n",
            "Epoch 41/60\n",
            "1376/1376 [==============================] - 16s 12ms/step - loss: 0.0015 - accuracy: 0.9999\n",
            "Epoch 42/60\n",
            "1376/1376 [==============================] - 16s 12ms/step - loss: 6.9010e-05 - accuracy: 1.0000\n",
            "Epoch 43/60\n",
            "1376/1376 [==============================] - 16s 12ms/step - loss: 1.5024e-04 - accuracy: 1.0000\n",
            "Epoch 44/60\n",
            "1376/1376 [==============================] - 16s 12ms/step - loss: 5.0582e-05 - accuracy: 1.0000\n",
            "Epoch 45/60\n",
            "1376/1376 [==============================] - 16s 12ms/step - loss: 6.1592e-05 - accuracy: 1.0000\n",
            "Epoch 46/60\n",
            "1376/1376 [==============================] - 16s 12ms/step - loss: 5.7418e-05 - accuracy: 1.0000\n",
            "Epoch 47/60\n",
            "1376/1376 [==============================] - 16s 12ms/step - loss: 6.6792e-05 - accuracy: 1.0000\n",
            "Epoch 48/60\n",
            "1376/1376 [==============================] - 16s 12ms/step - loss: 2.7962e-04 - accuracy: 1.0000\n",
            "Epoch 49/60\n",
            "1376/1376 [==============================] - 16s 12ms/step - loss: 4.3953e-04 - accuracy: 0.9999\n",
            "Epoch 50/60\n",
            "1376/1376 [==============================] - 16s 12ms/step - loss: 6.9605e-05 - accuracy: 1.0000\n",
            "Epoch 51/60\n",
            "1376/1376 [==============================] - 16s 12ms/step - loss: 8.2289e-05 - accuracy: 1.0000\n",
            "Epoch 52/60\n",
            "1376/1376 [==============================] - 16s 12ms/step - loss: 1.7786e-04 - accuracy: 1.0000\n",
            "Epoch 53/60\n",
            "1376/1376 [==============================] - 16s 12ms/step - loss: 6.4481e-05 - accuracy: 1.0000\n",
            "Epoch 54/60\n",
            "1376/1376 [==============================] - 16s 12ms/step - loss: 5.3766e-05 - accuracy: 1.0000\n",
            "Epoch 55/60\n",
            "1376/1376 [==============================] - 16s 12ms/step - loss: 1.0565e-04 - accuracy: 1.0000\n",
            "Epoch 56/60\n",
            "1376/1376 [==============================] - 16s 12ms/step - loss: 0.0024 - accuracy: 0.9999\n",
            "Epoch 57/60\n",
            "1376/1376 [==============================] - 16s 12ms/step - loss: 7.8495e-05 - accuracy: 0.9999\n",
            "Epoch 58/60\n",
            "1376/1376 [==============================] - 16s 12ms/step - loss: 7.3155e-05 - accuracy: 0.9999\n",
            "Epoch 59/60\n",
            "1376/1376 [==============================] - 16s 12ms/step - loss: 7.3683e-05 - accuracy: 0.9999\n",
            "Epoch 60/60\n",
            "1376/1376 [==============================] - 16s 12ms/step - loss: 8.0601e-05 - accuracy: 0.9999\n"
          ]
        },
        {
          "output_type": "execute_result",
          "data": {
            "text/plain": [
              "<keras.callbacks.History at 0x7f8d03626310>"
            ]
          },
          "metadata": {},
          "execution_count": 37
        }
      ]
    },
    {
      "cell_type": "code",
      "source": [
        "x_train_data_3 = data_3[:,:-1]\n",
        "y_train_data_3 = data_3[:,-1]\n",
        "\n",
        "y_train_data_3[np.where(y_train_data_3==5)] = 0\n",
        "y_train_data_3[np.where(y_train_data_3==6)] = 1"
      ],
      "metadata": {
        "id": "4NK3VmJBuvwA"
      },
      "execution_count": null,
      "outputs": []
    },
    {
      "cell_type": "code",
      "source": [
        "from sklearn.tree import DecisionTreeClassifier\n",
        "\n",
        "# Create decision tree classifier object\n",
        "decisiontree = DecisionTreeClassifier(random_state=0)\n",
        "# Train model\n",
        "tree = decisiontree.fit(x_train_data_3, y_train_data_3)"
      ],
      "metadata": {
        "id": "MV7Bsuy_y5bY"
      },
      "execution_count": null,
      "outputs": []
    },
    {
      "cell_type": "code",
      "source": [
        "#############################################################"
      ],
      "metadata": {
        "id": "8cO7diLoy9Zw"
      },
      "execution_count": null,
      "outputs": []
    },
    {
      "cell_type": "code",
      "source": [
        "x_train = data.iloc[:,:-1]\n",
        "y_train = data.iloc[:,-1]"
      ],
      "metadata": {
        "id": "Seyka0kNzBv2"
      },
      "execution_count": null,
      "outputs": []
    },
    {
      "cell_type": "code",
      "source": [
        "from sklearn.neighbors import KNeighborsClassifier\n",
        "\n",
        "classifier = KNeighborsClassifier(n_neighbors=1)\n",
        "\n",
        "knn = classifier.fit(x_train, y_train)\n",
        "predict = knn.predict(x_test)"
      ],
      "metadata": {
        "id": "GRRsTuXfzEFs"
      },
      "execution_count": null,
      "outputs": []
    },
    {
      "cell_type": "code",
      "source": [
        "import numpy as np\n",
        "class_0 = x_test [predict == 0]\n",
        "class_3 = x_test [predict == 3]\n",
        "\n",
        "label_0 = y_test[predict == 0]\n",
        "label_3 = y_test[predict == 3]\n",
        "\n",
        "sample_test_0_3 = np.vstack((class_0, class_3)) \n",
        "label_test_0_3 = np.hstack((label_0, label_3))\n",
        "\n",
        "print(len(sample_test_0_3))\n",
        "print(len(label_test_0_3))\n",
        "print(np.unique(label_test_0_3, return_counts = True))"
      ],
      "metadata": {
        "colab": {
          "base_uri": "https://localhost:8080/"
        },
        "id": "OF-UnOjKzHLx",
        "outputId": "9643cb61-fe72-4b5a-eff3-80771b8c32f8"
      },
      "execution_count": null,
      "outputs": [
        {
          "output_type": "stream",
          "name": "stdout",
          "text": [
            "24381\n",
            "24381\n",
            "(array([0, 1, 2, 3, 4]), array([13755,     4,    17, 10602,     3]))\n"
          ]
        }
      ]
    },
    {
      "cell_type": "code",
      "source": [
        "class_1 = x_test [predict == 1]\n",
        "class_2 = x_test [predict == 2]\n",
        "\n",
        "label_1 = y_test[predict == 1]\n",
        "label_2 = y_test[predict == 2]\n",
        "\n",
        "sample_test_1_2 = np.vstack((class_1, class_2)) \n",
        "label_test_1_2 = np.hstack((label_1, label_2))\n",
        "\n",
        "print(len(sample_test_1_2))\n",
        "print(len(label_test_1_2))\n",
        "print(np.unique(label_test_1_2, return_counts = True))"
      ],
      "metadata": {
        "colab": {
          "base_uri": "https://localhost:8080/"
        },
        "id": "8zhlqRGEzwfk",
        "outputId": "309b3783-5e9b-4ef0-bbdd-6d24336a2eb6"
      },
      "execution_count": null,
      "outputs": [
        {
          "output_type": "stream",
          "name": "stdout",
          "text": [
            "44037\n",
            "44037\n",
            "(array([0, 1, 2, 3, 4]), array([   10, 24555, 19467,     4,     1]))\n"
          ]
        }
      ]
    },
    {
      "cell_type": "code",
      "source": [
        "class_5 = x_test [predict == 5]\n",
        "class_6 = x_test [predict == 6]\n",
        "\n",
        "label_5 = y_test[predict == 5]\n",
        "label_6 = y_test[predict == 6]\n",
        "\n",
        "sample_test_5_6 = np.vstack((class_5, class_6)) \n",
        "label_test_5_6 = np.hstack((label_5, label_6))\n",
        "\n",
        "print(len(sample_test_5_6))\n",
        "print(len(label_test_5_6))\n",
        "print(np.unique(label_test_5_6, return_counts = True))"
      ],
      "metadata": {
        "colab": {
          "base_uri": "https://localhost:8080/"
        },
        "id": "NDx_ta-nz3Fw",
        "outputId": "b98408c4-8428-42a2-a4a6-682ab6fe66b5"
      },
      "execution_count": null,
      "outputs": [
        {
          "output_type": "stream",
          "name": "stdout",
          "text": [
            "67\n",
            "67\n",
            "(array([0, 5, 6]), array([ 1, 43, 23]))\n"
          ]
        }
      ]
    },
    {
      "cell_type": "code",
      "source": [
        "class_4 = x_test [predict == 4]\n",
        "class_7 = x_test [predict == 7]\n",
        "\n",
        "label_4 = y_test[predict == 4]\n",
        "label_7 = y_test[predict == 7]\n",
        "\n",
        "\n",
        "print(len(label_4))\n",
        "print(len(label_7))\n",
        "print(np.unique(label_4, return_counts = True))\n",
        "print(np.unique(label_7, return_counts = True))"
      ],
      "metadata": {
        "colab": {
          "base_uri": "https://localhost:8080/"
        },
        "id": "1xEHsQzxz9ZL",
        "outputId": "98f398c7-d560-41ac-e16c-32d62d96e6f8"
      },
      "execution_count": null,
      "outputs": [
        {
          "output_type": "stream",
          "name": "stdout",
          "text": [
            "287\n",
            "6\n",
            "(array([2, 3, 4, 5]), array([  3,   4, 274,   6]))\n",
            "(array([0, 7]), array([1, 5]))\n"
          ]
        }
      ]
    },
    {
      "cell_type": "code",
      "source": [
        "label_test = np.hstack((label_test_0_3, label_test_1_2))\n",
        "label_test = np.hstack((label_test, label_test_5_6))\n",
        "label_test = np.hstack((label_test, label_4))\n",
        "label_test = np.hstack((label_test, label_7))\n",
        "\n",
        "print(len(label_test))"
      ],
      "metadata": {
        "colab": {
          "base_uri": "https://localhost:8080/"
        },
        "id": "vPy2faoT0DOF",
        "outputId": "27f87801-7bd1-4e6f-ed46-0469c406086f"
      },
      "execution_count": null,
      "outputs": [
        {
          "output_type": "stream",
          "name": "stdout",
          "text": [
            "68778\n"
          ]
        }
      ]
    },
    {
      "cell_type": "code",
      "source": [
        "for i in range(len(sample_test_0_3[0])):\n",
        "  sample_test_0_3[:,i] = (sample_test_0_3[:,i] - mean_1[0,i]) / SD_1[0,i]\n",
        "\n",
        "for row in sample_test_0_3:\n",
        "  row[np.where(np.isnan(row))] = 0.0"
      ],
      "metadata": {
        "colab": {
          "base_uri": "https://localhost:8080/"
        },
        "id": "KtKFCcuV0IVq",
        "outputId": "1566e5cd-0d4d-4a0f-ac9b-8d72562e242e"
      },
      "execution_count": null,
      "outputs": [
        {
          "output_type": "stream",
          "name": "stderr",
          "text": [
            "<ipython-input-48-5030efe57417>:2: RuntimeWarning: invalid value encountered in true_divide\n",
            "  sample_test_0_3[:,i] = (sample_test_0_3[:,i] - mean_1[0,i]) / SD_1[0,i]\n"
          ]
        }
      ]
    },
    {
      "cell_type": "code",
      "source": [
        "X_test_cnn_1 = np.reshape(sample_test_0_3, (sample_test_0_3.shape[0],sample_test_0_3.shape[1],1))\n",
        "\n",
        "label_test_0_3[np.where(label_test_0_3==0)] = 0\n",
        "label_test_0_3[np.where(label_test_0_3==3)] = 1\n",
        "\n",
        "y_pred = cnn_1.predict(X_test_cnn_1)\n",
        "print(len(y_pred))\n",
        "\n",
        "pred = []\n",
        "for element in y_pred:\n",
        "  if(element > 0.5):\n",
        "    pred.append(1)\n",
        "  else:\n",
        "    pred.append(0)\n",
        "\n",
        "####################################################\n",
        "from sklearn.metrics import accuracy_score, confusion_matrix, classification_report\n",
        "\n",
        "accuracy = accuracy_score(label_test_0_3, pred)\n",
        "print(accuracy)\n",
        "\n",
        "cm = confusion_matrix(label_test_0_3, pred)\n",
        "print(cm)\n",
        "\n",
        "import seaborn as sns\n",
        "import matplotlib.pyplot as plt\n",
        "\n",
        "# Create confusion matrix\n",
        "matrix = confusion_matrix(label_test_0_3, pred)\n",
        "\n",
        "class_names = [0,3,2,4]\n",
        "# Create pandas dataframe\n",
        "dataframe = pd.DataFrame(matrix, index = class_names, columns = class_names)\n",
        "\n",
        "# Create heatmap\n",
        "sns.heatmap(dataframe, annot=True,fmt=\".0f\")\n",
        "plt.title(\"Confusion Matrix\")\n",
        "plt.tight_layout()\n",
        "plt.ylabel(\"True Class\")\n",
        "plt.xlabel(\"Predicted Class\")\n",
        "plt.show()\n",
        "#####################################################"
      ],
      "metadata": {
        "colab": {
          "base_uri": "https://localhost:8080/",
          "height": 433
        },
        "id": "xcavbuyS0Mmv",
        "outputId": "ccfab13d-2d6b-4db0-c6d1-8c49dd2205cd"
      },
      "execution_count": null,
      "outputs": [
        {
          "output_type": "stream",
          "name": "stdout",
          "text": [
            "762/762 [==============================] - 2s 2ms/step\n",
            "24381\n",
            "0.9988515647430376\n",
            "[[13751     4     0     0]\n",
            " [    4 10602     0     0]\n",
            " [    2    15     0     0]\n",
            " [    0     3     0     0]]\n"
          ]
        },
        {
          "output_type": "display_data",
          "data": {
            "text/plain": [
              "<Figure size 432x288 with 2 Axes>"
            ],
            "image/png": "[encoded data removed]"
          },
          "metadata": {
            "needs_background": "light"
          }
        }
      ]
    },
    {
      "cell_type": "code",
      "source": [
        "print(np.unique(pred, return_counts = True))"
      ],
      "metadata": {
        "colab": {
          "base_uri": "https://localhost:8080/"
        },
        "id": "KKTL3MLX0SJP",
        "outputId": "eff3f92d-9fef-4cd9-92f3-c337a91e5df9"
      },
      "execution_count": null,
      "outputs": [
        {
          "output_type": "stream",
          "name": "stdout",
          "text": [
            "(array([0, 1]), array([13757, 10624]))\n"
          ]
        }
      ]
    },
    {
      "cell_type": "code",
      "source": [
        "predicted = []\n",
        "\n",
        "for x in pred:\n",
        "  if x == 0:\n",
        "    predicted.append(0)\n",
        "  else:\n",
        "    predicted.append(3)\n",
        "\n",
        "print(len(predicted))"
      ],
      "metadata": {
        "colab": {
          "base_uri": "https://localhost:8080/"
        },
        "id": "_9L7yxBr0fDl",
        "outputId": "32a303cc-baba-4feb-8c1c-3eb6e260260d"
      },
      "execution_count": null,
      "outputs": [
        {
          "output_type": "stream",
          "name": "stdout",
          "text": [
            "24381\n"
          ]
        }
      ]
    },
    {
      "cell_type": "code",
      "source": [
        "############# Class 1 and Class 2"
      ],
      "metadata": {
        "id": "YSu99D8x0iQ8"
      },
      "execution_count": null,
      "outputs": []
    },
    {
      "cell_type": "code",
      "source": [
        "for i in range(len(sample_test_1_2[0])):\n",
        "  sample_test_1_2[:,i] = (sample_test_1_2[:,i] - mean_2[0,i]) / SD_2[0,i]\n",
        "\n",
        "for row in sample_test_1_2:\n",
        "  row[np.where(np.isnan(row))] = 0.0"
      ],
      "metadata": {
        "colab": {
          "base_uri": "https://localhost:8080/"
        },
        "id": "siryvleQ0moZ",
        "outputId": "7594fb54-07d4-44df-c87f-f455e6b442a7"
      },
      "execution_count": null,
      "outputs": [
        {
          "output_type": "stream",
          "name": "stderr",
          "text": [
            "<ipython-input-53-cb3e31c74c4f>:2: RuntimeWarning: invalid value encountered in true_divide\n",
            "  sample_test_1_2[:,i] = (sample_test_1_2[:,i] - mean_2[0,i]) / SD_2[0,i]\n"
          ]
        }
      ]
    },
    {
      "cell_type": "code",
      "source": [
        "X_test_cnn_2 = np.reshape(sample_test_1_2, (sample_test_1_2.shape[0],sample_test_1_2.shape[1],1))\n",
        "\n",
        "label_test_1_2[np.where(label_test_1_2==1)] = 0\n",
        "label_test_1_2[np.where(label_test_1_2==2)] = 1\n",
        "print(np.unique(label_test_1_2, return_counts = True))\n",
        "\n",
        "y_pred = cnn_2.predict(X_test_cnn_2)\n",
        "\n",
        "pred = []\n",
        "for element in y_pred:\n",
        "  if(element > 0.5):\n",
        "    pred.append(1)\n",
        "  else:\n",
        "    pred.append(0)\n",
        "\n",
        "####################################################\n",
        "from sklearn.metrics import accuracy_score, confusion_matrix, classification_report\n",
        "\n",
        "accuracy = accuracy_score(label_test_1_2, pred)\n",
        "print(accuracy)\n",
        "\n",
        "cm = confusion_matrix(label_test_1_2, pred)\n",
        "print(cm)\n",
        "\n",
        "import seaborn as sns\n",
        "import matplotlib.pyplot as plt\n",
        "\n",
        "# Create confusion matrix\n",
        "matrix = confusion_matrix(label_test_1_2, pred)\n",
        "\n",
        "class_names = [1,2,3,4]\n",
        "# Create pandas dataframe\n",
        "dataframe = pd.DataFrame(matrix, index = class_names, columns = class_names)\n",
        "\n",
        "# Create heatmap\n",
        "sns.heatmap(dataframe, annot=True,fmt=\".0f\")\n",
        "plt.title(\"Confusion Matrix\")\n",
        "plt.tight_layout()\n",
        "plt.ylabel(\"True Class\")\n",
        "plt.xlabel(\"Predicted Class\")\n",
        "plt.show()\n",
        "#####################################################"
      ],
      "metadata": {
        "colab": {
          "base_uri": "https://localhost:8080/",
          "height": 433
        },
        "id": "vFJkQMlt0pRj",
        "outputId": "7a850e9b-a551-43a3-8909-3686349708da"
      },
      "execution_count": null,
      "outputs": [
        {
          "output_type": "stream",
          "name": "stdout",
          "text": [
            "(array([0, 1, 3, 4]), array([24565, 19467,     4,     1]))\n",
            "1377/1377 [==============================] - 4s 3ms/step\n",
            "0.9995685446329223\n",
            "[[24556     9     0     0]\n",
            " [    5 19462     0     0]\n",
            " [    0     4     0     0]\n",
            " [    0     1     0     0]]\n"
          ]
        },
        {
          "output_type": "display_data",
          "data": {
            "text/plain": [
              "<Figure size 432x288 with 2 Axes>"
            ],
            "image/png": "[encoded data removed]"
          },
          "metadata": {
            "needs_background": "light"
          }
        }
      ]
    },
    {
      "cell_type": "code",
      "source": [
        "print(np.unique(pred, return_counts = True))"
      ],
      "metadata": {
        "colab": {
          "base_uri": "https://localhost:8080/"
        },
        "id": "tTO6aRO00v1I",
        "outputId": "b2f10a99-dd46-4613-a501-77441fe1f32c"
      },
      "execution_count": null,
      "outputs": [
        {
          "output_type": "stream",
          "name": "stdout",
          "text": [
            "(array([0, 1]), array([24561, 19476]))\n"
          ]
        }
      ]
    },
    {
      "cell_type": "code",
      "source": [
        "for x in pred:\n",
        "  if x == 0:\n",
        "    predicted.append(1)\n",
        "  else:\n",
        "    predicted.append(2)\n",
        "\n",
        "print(len(predicted))"
      ],
      "metadata": {
        "colab": {
          "base_uri": "https://localhost:8080/"
        },
        "id": "rslpEt7S04U0",
        "outputId": "2c5910f8-2ec1-4c24-d2fd-a39c2a26cf6f"
      },
      "execution_count": null,
      "outputs": [
        {
          "output_type": "stream",
          "name": "stdout",
          "text": [
            "68418\n"
          ]
        }
      ]
    },
    {
      "cell_type": "code",
      "source": [
        "##### Class 5 and Class 6"
      ],
      "metadata": {
        "id": "xHE95Uc607He"
      },
      "execution_count": null,
      "outputs": []
    },
    {
      "cell_type": "code",
      "source": [
        "for i in range(len(sample_test_5_6[0])):\n",
        "  sample_test_5_6[:,i] = (sample_test_5_6[:,i] - mean_3[0,i]) / SD_3[0,i]\n",
        "  \n",
        "for row in sample_test_5_6:\n",
        "  row[np.where(np.isnan(row))] = 0.0\n",
        "  row[np.where(np.isinf(row))] = 0.0"
      ],
      "metadata": {
        "colab": {
          "base_uri": "https://localhost:8080/"
        },
        "id": "Vefq2lgn0-Ka",
        "outputId": "bc6bc747-a555-48a4-e3d4-323320b356c3"
      },
      "execution_count": null,
      "outputs": [
        {
          "output_type": "stream",
          "name": "stderr",
          "text": [
            "<ipython-input-58-9f53d4b1c6f2>:2: RuntimeWarning: divide by zero encountered in true_divide\n",
            "  sample_test_5_6[:,i] = (sample_test_5_6[:,i] - mean_3[0,i]) / SD_3[0,i]\n",
            "<ipython-input-58-9f53d4b1c6f2>:2: RuntimeWarning: invalid value encountered in true_divide\n",
            "  sample_test_5_6[:,i] = (sample_test_5_6[:,i] - mean_3[0,i]) / SD_3[0,i]\n"
          ]
        }
      ]
    },
    {
      "cell_type": "code",
      "source": [
        "np.where(np.isinf(sample_test_5_6))"
      ],
      "metadata": {
        "colab": {
          "base_uri": "https://localhost:8080/"
        },
        "id": "TdO5LGnp1Ako",
        "outputId": "219e4e59-86ab-448e-fd59-81f7da0ea872"
      },
      "execution_count": null,
      "outputs": [
        {
          "output_type": "execute_result",
          "data": {
            "text/plain": [
              "(array([], dtype=int64), array([], dtype=int64))"
            ]
          },
          "metadata": {},
          "execution_count": 59
        }
      ]
    },
    {
      "cell_type": "code",
      "source": [
        "label_test_5_6[np.where(label_test_5_6==5)] = 0\n",
        "label_test_5_6[np.where(label_test_5_6==6)] = 1\n",
        "\n",
        "pred = tree.predict(sample_test_5_6)\n",
        "\n",
        "\n",
        "####################################################\n",
        "from sklearn.metrics import accuracy_score, confusion_matrix, classification_report\n",
        "\n",
        "accuracy = accuracy_score(label_test_5_6, pred)\n",
        "print(accuracy)\n",
        "\n",
        "cm = confusion_matrix(label_test_5_6, pred)\n",
        "print(cm)\n",
        "\n",
        "import seaborn as sns\n",
        "import matplotlib.pyplot as plt\n",
        "\n",
        "# Create confusion matrix\n",
        "matrix = confusion_matrix(label_test_5_6, pred)\n",
        "\n",
        "class_names = [5,6]\n",
        "# Create pandas dataframe\n",
        "dataframe = pd.DataFrame(matrix, index = class_names, columns = class_names)\n",
        "\n",
        "# Create heatmap\n",
        "sns.heatmap(dataframe, annot=True,fmt=\".0f\")\n",
        "plt.title(\"Confusion Matrix\")\n",
        "plt.tight_layout()\n",
        "plt.ylabel(\"True Class\")\n",
        "plt.xlabel(\"Predicted Class\")\n",
        "plt.show()\n",
        "#####################################################"
      ],
      "metadata": {
        "colab": {
          "base_uri": "https://localhost:8080/",
          "height": 363
        },
        "id": "UF103yeR1EdK",
        "outputId": "b66e5df2-b0bf-4fef-c631-9e8080fdb513"
      },
      "execution_count": null,
      "outputs": [
        {
          "output_type": "stream",
          "name": "stdout",
          "text": [
            "0.9850746268656716\n",
            "[[43  1]\n",
            " [ 0 23]]\n"
          ]
        },
        {
          "output_type": "display_data",
          "data": {
            "text/plain": [
              "<Figure size 432x288 with 2 Axes>"
            ],
            "image/png": "[encoded data removed]"
          },
          "metadata": {
            "needs_background": "light"
          }
        }
      ]
    },
    {
      "cell_type": "code",
      "source": [
        "print(np.unique(pred, return_counts = True))"
      ],
      "metadata": {
        "colab": {
          "base_uri": "https://localhost:8080/"
        },
        "id": "6C_q3hM71JcG",
        "outputId": "66b95ad1-21c0-4bb2-a46e-eae38536cc19"
      },
      "execution_count": null,
      "outputs": [
        {
          "output_type": "stream",
          "name": "stdout",
          "text": [
            "(array([0., 1.]), array([43, 24]))\n"
          ]
        }
      ]
    },
    {
      "cell_type": "code",
      "source": [
        "for x in pred:\n",
        "  if x == 0:\n",
        "    predicted.append(5)\n",
        "  else:\n",
        "    predicted.append(6)\n",
        "\n",
        "print(len(predicted))"
      ],
      "metadata": {
        "colab": {
          "base_uri": "https://localhost:8080/"
        },
        "id": "PtfHt-9N1OvD",
        "outputId": "a232d167-4506-4722-d0bf-4768a20c1961"
      },
      "execution_count": null,
      "outputs": [
        {
          "output_type": "stream",
          "name": "stdout",
          "text": [
            "68485\n"
          ]
        }
      ]
    },
    {
      "cell_type": "code",
      "source": [
        "######## Class 4"
      ],
      "metadata": {
        "id": "wItL_cRQ1Snf"
      },
      "execution_count": null,
      "outputs": []
    },
    {
      "cell_type": "code",
      "source": [
        "x_train_data_4 = BFA.iloc[:,:-1]\n",
        "y_train_data_4 = BFA.iloc[:,-1]\n",
        "\n",
        "classifier = KNeighborsClassifier()\n",
        "\n",
        "knn = classifier.fit(x_train_data_4, y_train_data_4)\n",
        "y_pred = knn.predict(class_4)\n",
        "\n",
        "print(len(y_pred))\n",
        "\n",
        "for x in y_pred:\n",
        "    predicted.append(4)\n",
        "\n",
        "print(len(predicted))"
      ],
      "metadata": {
        "colab": {
          "base_uri": "https://localhost:8080/"
        },
        "id": "19_87kTC1Vd7",
        "outputId": "684fd34a-4990-4d1e-c14e-c5f58b62e3e3"
      },
      "execution_count": null,
      "outputs": [
        {
          "output_type": "stream",
          "name": "stdout",
          "text": [
            "287\n",
            "68772\n"
          ]
        }
      ]
    },
    {
      "cell_type": "code",
      "source": [
        "##### Class 7"
      ],
      "metadata": {
        "id": "PFS4uXkV1YyC"
      },
      "execution_count": null,
      "outputs": []
    },
    {
      "cell_type": "code",
      "source": [
        "x_train_data_5 = U2R.iloc[:,:-1]\n",
        "y_train_data_5 = U2R.iloc[:,-1]\n",
        "\n",
        "classifier = KNeighborsClassifier()\n",
        "\n",
        "knn = classifier.fit(x_train_data_5, y_train_data_5)\n",
        "y_pred = knn.predict(class_7)\n",
        "\n",
        "print(len(y_pred))\n",
        "\n",
        "for x in y_pred:\n",
        "    predicted.append(7)\n",
        "\n",
        "print(len(predicted))"
      ],
      "metadata": {
        "colab": {
          "base_uri": "https://localhost:8080/"
        },
        "id": "daULEbLp1cdE",
        "outputId": "f67b666c-3083-409a-b97d-5771b47e38f6"
      },
      "execution_count": null,
      "outputs": [
        {
          "output_type": "stream",
          "name": "stdout",
          "text": [
            "6\n",
            "68778\n"
          ]
        }
      ]
    },
    {
      "cell_type": "code",
      "source": [
        "#######################"
      ],
      "metadata": {
        "id": "Q3r5AsAd1ft4"
      },
      "execution_count": null,
      "outputs": []
    },
    {
      "cell_type": "code",
      "source": [
        "print(accuracy_score(label_test,predicted))\n",
        "matrix = confusion_matrix(label_test,predicted)\n",
        "class_names = ['Normal', 'DDoS', 'Probe', 'DoS', 'BFA', 'Web_Attack', 'BOTNET', 'U2R']\n",
        "dataframe = pd.DataFrame(data = matrix, index = class_names, columns = class_names)\n",
        "sns.heatmap(dataframe, annot=True, fmt='.0f')\n",
        "plt.title(\"Confusion Matrix\")\n",
        "plt.xlabel(\"Predicted Class\")\n",
        "plt.ylabel(\"True Classes\")\n",
        "plt.tight_layout()\n",
        "plt.show()"
      ],
      "metadata": {
        "id": "Nm9M8jws1jwk",
        "outputId": "b8525e04-e1e5-416f-9f11-9b8c57f6ef18",
        "colab": {
          "base_uri": "https://localhost:8080/",
          "height": 314
        }
      },
      "execution_count": null,
      "outputs": [
        {
          "output_type": "stream",
          "name": "stdout",
          "text": [
            "0.9990694698886272\n"
          ]
        },
        {
          "output_type": "display_data",
          "data": {
            "text/plain": [
              "<Figure size 432x288 with 2 Axes>"
            ],
            "image/png": "[encoded data removed]"
          },
          "metadata": {
            "needs_background": "light"
          }
        }
      ]
    },
    {
      "cell_type": "code",
      "source": [
        "from sklearn.metrics import classification_report\n",
        "print(classification_report(label_test,predicted, target_names=class_names, digits = 6))"
      ],
      "metadata": {
        "id": "IW3tHea01mqY",
        "colab": {
          "base_uri": "https://localhost:8080/"
        },
        "outputId": "2b76bca0-20e3-4876-fe6f-d68f98952463"
      },
      "execution_count": null,
      "outputs": [
        {
          "output_type": "stream",
          "name": "stdout",
          "text": [
            "              precision    recall  f1-score   support\n",
            "\n",
            "      Normal   0.999564  0.998838  0.999201     13767\n",
            "        DDoS   0.999756  0.999837  0.999796     24559\n",
            "       Probe   0.999281  0.998717  0.998999     19487\n",
            "         DoS   0.997835  0.999152  0.998493     10610\n",
            "         BFA   0.954704  0.985612  0.969912       278\n",
            "  Web_Attack   1.000000  0.877551  0.934783        49\n",
            "      BOTNET   0.958333  1.000000  0.978723        23\n",
            "         U2R   0.833333  1.000000  0.909091         5\n",
            "\n",
            "    accuracy                       0.999069     68778\n",
            "   macro avg   0.967851  0.982463  0.973625     68778\n",
            "weighted avg   0.999079  0.999069  0.999069     68778\n",
            "\n"
          ]
        }
      ]
    },
    {
      "cell_type": "code",
      "source": [],
      "metadata": {
        "id": "MOvwwZEU7Mer"
      },
      "execution_count": null,
      "outputs": []
    }
  ]
}